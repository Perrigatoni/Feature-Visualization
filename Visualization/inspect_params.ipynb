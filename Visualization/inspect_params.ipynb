{
 "cells": [
  {
   "cell_type": "code",
   "execution_count": 2,
   "metadata": {},
   "outputs": [
    {
     "ename": "TypeError",
     "evalue": "Channel_Obj.__init__() missing 2 required positional arguments: 'layer' and 'channel'",
     "output_type": "error",
     "traceback": [
      "\u001b[1;31m---------------------------------------------------------------------------\u001b[0m",
      "\u001b[1;31mTypeError\u001b[0m                                 Traceback (most recent call last)",
      "Cell \u001b[1;32mIn[2], line 5\u001b[0m\n\u001b[0;32m      1\u001b[0m \u001b[39mimport\u001b[39;00m \u001b[39minspect\u001b[39;00m\n\u001b[0;32m      3\u001b[0m \u001b[39mfrom\u001b[39;00m \u001b[39mobjective_classes_mk2\u001b[39;00m \u001b[39mimport\u001b[39;00m \u001b[39m*\u001b[39m\n\u001b[1;32m----> 5\u001b[0m constructor \u001b[39m=\u001b[39m Channel_Obj()\u001b[39m.\u001b[39m\u001b[39m__init__\u001b[39m\n\u001b[0;32m      7\u001b[0m params \u001b[39m=\u001b[39m inspect\u001b[39m.\u001b[39msignature(constructor)\u001b[39m.\u001b[39mparameters\n\u001b[0;32m      9\u001b[0m param_names \u001b[39m=\u001b[39m [name \u001b[39mfor\u001b[39;00m name \u001b[39min\u001b[39;00m params \u001b[39mif\u001b[39;00m name \u001b[39m!=\u001b[39m\u001b[39m'\u001b[39m\u001b[39mself\u001b[39m\u001b[39m'\u001b[39m]\n",
      "\u001b[1;31mTypeError\u001b[0m: Channel_Obj.__init__() missing 2 required positional arguments: 'layer' and 'channel'"
     ]
    }
   ],
   "source": [
    "import inspect\n",
    "\n",
    "from objective_classes_mk2 import *\n",
    "\n",
    "constructor = Channel_Obj.__init__\n",
    "\n",
    "params = inspect.signature(constructor).parameters\n",
    "\n",
    "param_names = [name for name in params if name !='self']\n",
    "\n",
    "print(param_names)"
   ]
  },
  {
   "cell_type": "code",
   "execution_count": 6,
   "metadata": {},
   "outputs": [
    {
     "ename": "NameError",
     "evalue": "name '__objective_classes_mk2__' is not defined",
     "output_type": "error",
     "traceback": [
      "\u001b[1;31m---------------------------------------------------------------------------\u001b[0m",
      "\u001b[1;31mNameError\u001b[0m                                 Traceback (most recent call last)",
      "Cell \u001b[1;32mIn[6], line 2\u001b[0m\n\u001b[0;32m      1\u001b[0m class_name \u001b[39m=\u001b[39m \u001b[39m'\u001b[39m\u001b[39mChannel_Obj\u001b[39m\u001b[39m'\u001b[39m\n\u001b[1;32m----> 2\u001b[0m constructor2 \u001b[39m=\u001b[39m \u001b[39mgetattr\u001b[39m(__objective_classes_mk2__, class_name)\u001b[39m.\u001b[39m\u001b[39m__init__\u001b[39m\n\u001b[0;32m      3\u001b[0m \u001b[39mprint\u001b[39m(constructor2)\n",
      "\u001b[1;31mNameError\u001b[0m: name '__objective_classes_mk2__' is not defined"
     ]
    }
   ],
   "source": [
    "class_name = 'Channel_Obj'\n",
    "\n",
    "dictionary = {\"Channel_Obj\" : Channel_Obj,\n",
    "              \"Neuron_Obj\" : Neuron_Obj}\n",
    "\n"
   ]
  }
 ],
 "metadata": {
  "kernelspec": {
   "display_name": "torchCUDA",
   "language": "python",
   "name": "python3"
  },
  "language_info": {
   "codemirror_mode": {
    "name": "ipython",
    "version": 3
   },
   "file_extension": ".py",
   "mimetype": "text/x-python",
   "name": "python",
   "nbconvert_exporter": "python",
   "pygments_lexer": "ipython3",
   "version": "3.10.8"
  },
  "orig_nbformat": 4
 },
 "nbformat": 4,
 "nbformat_minor": 2
}
