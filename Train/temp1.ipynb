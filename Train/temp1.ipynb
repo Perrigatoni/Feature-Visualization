{
 "cells": [
  {
   "cell_type": "code",
   "execution_count": 1,
   "metadata": {},
   "outputs": [
    {
     "name": "stderr",
     "output_type": "stream",
     "text": [
      "c:\\Users\\Noel\\anaconda3\\envs\\torchCUDA\\lib\\site-packages\\tqdm\\auto.py:22: TqdmWarning: IProgress not found. Please update jupyter and ipywidgets. See https://ipywidgets.readthedocs.io/en/stable/user_install.html\n",
      "  from .autonotebook import tqdm as notebook_tqdm\n"
     ]
    },
    {
     "name": "stdout",
     "output_type": "stream",
     "text": [
      "The random indexing commences as follows: tensor([3, 2, 6, 0, 5, 4, 1])\n",
      "The unrandomized order target is: tensor([0, 1, 2, 3, 4, 5, 6])\n",
      "The randomized order target is: tensor([3, 2, 6, 0, 5, 4, 1])\n"
     ]
    }
   ],
   "source": [
    "import torch\n",
    "\n",
    "labels = torch.tensor([0, 1, 2, 3, 4, 5, 6])\n",
    "rand_index = torch.randperm(labels.size()[0])\n",
    "print(f\"The random indexing commences as follows: {rand_index}\")\n",
    "\n",
    "target_a = labels\n",
    "print(f\"The unrandomized order target is: {target_a}\")\n",
    "target_b = labels[rand_index]\n",
    "print(f\"The randomized order target is: {target_b}\")"
   ]
  }
 ],
 "metadata": {
  "kernelspec": {
   "display_name": "torchCUDA",
   "language": "python",
   "name": "python3"
  },
  "language_info": {
   "codemirror_mode": {
    "name": "ipython",
    "version": 3
   },
   "file_extension": ".py",
   "mimetype": "text/x-python",
   "name": "python",
   "nbconvert_exporter": "python",
   "pygments_lexer": "ipython3",
   "version": "3.10.8"
  },
  "orig_nbformat": 4
 },
 "nbformat": 4,
 "nbformat_minor": 2
}
